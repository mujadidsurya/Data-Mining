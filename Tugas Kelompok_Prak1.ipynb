{
 "cells": [
  {
   "cell_type": "code",
   "execution_count": null,
   "metadata": {},
   "outputs": [],
   "source": []
  },
  {
   "cell_type": "markdown",
   "metadata": {},
   "source": [
    "# Describing Data using Pandas"
   ]
  },
  {
   "cell_type": "code",
   "execution_count": 46,
   "metadata": {},
   "outputs": [],
   "source": [
    "import pandas as pd\n",
    "\n",
    "df = pd.read_csv('Private_data.csv')"
   ]
  },
  {
   "cell_type": "markdown",
   "metadata": {},
   "source": [
    "#### Melihat ukuran dataset (baris,kolom)"
   ]
  },
  {
   "cell_type": "code",
   "execution_count": 47,
   "metadata": {},
   "outputs": [
    {
     "data": {
      "text/plain": [
       "(151, 12)"
      ]
     },
     "execution_count": 47,
     "metadata": {},
     "output_type": "execute_result"
    }
   ],
   "source": [
    "df.shape\n"
   ]
  },
  {
   "cell_type": "code",
   "execution_count": 48,
   "metadata": {},
   "outputs": [
    {
     "name": "stdout",
     "output_type": "stream",
     "text": [
      "<class 'pandas.core.frame.DataFrame'>\n",
      "RangeIndex: 151 entries, 0 to 150\n",
      "Data columns (total 12 columns):\n",
      " #   Column                                Non-Null Count  Dtype  \n",
      "---  ------                                --------------  -----  \n",
      " 0   Unnamed: 0                            151 non-null    int64  \n",
      " 1   NAME OF THE STUDENT                   151 non-null    object \n",
      " 2   UNIVERSITY                            151 non-null    object \n",
      " 3   PROGRAM NAME                          151 non-null    object \n",
      " 4   Specialisation                        151 non-null    object \n",
      " 5   SEMESTER                              151 non-null    object \n",
      " 6   Domain                                151 non-null    object \n",
      " 7   GENERAL MANAGEMENT SCORE (OUT of 50)  151 non-null    int64  \n",
      " 8   Domain Specific SCORE (OUT 50)        151 non-null    int64  \n",
      " 9   TOTAL SCORE (OUT of 100)              151 non-null    int64  \n",
      " 10  RANK                                  151 non-null    int64  \n",
      " 11  PERCENTILE                            151 non-null    float64\n",
      "dtypes: float64(1), int64(5), object(6)\n",
      "memory usage: 14.3+ KB\n"
     ]
    }
   ],
   "source": [
    "df.info()"
   ]
  },
  {
   "cell_type": "markdown",
   "metadata": {},
   "source": [
    "#### Melihat baris bagian atas dataframe"
   ]
  },
  {
   "cell_type": "code",
   "execution_count": 49,
   "metadata": {},
   "outputs": [
    {
     "data": {
      "text/html": [
       "<div>\n",
       "<style scoped>\n",
       "    .dataframe tbody tr th:only-of-type {\n",
       "        vertical-align: middle;\n",
       "    }\n",
       "\n",
       "    .dataframe tbody tr th {\n",
       "        vertical-align: top;\n",
       "    }\n",
       "\n",
       "    .dataframe thead th {\n",
       "        text-align: right;\n",
       "    }\n",
       "</style>\n",
       "<table border=\"1\" class=\"dataframe\">\n",
       "  <thead>\n",
       "    <tr style=\"text-align: right;\">\n",
       "      <th></th>\n",
       "      <th>Unnamed: 0</th>\n",
       "      <th>NAME OF THE STUDENT</th>\n",
       "      <th>UNIVERSITY</th>\n",
       "      <th>PROGRAM NAME</th>\n",
       "      <th>Specialisation</th>\n",
       "      <th>SEMESTER</th>\n",
       "      <th>Domain</th>\n",
       "      <th>GENERAL MANAGEMENT SCORE (OUT of 50)</th>\n",
       "      <th>Domain Specific SCORE (OUT 50)</th>\n",
       "      <th>TOTAL SCORE (OUT of 100)</th>\n",
       "      <th>RANK</th>\n",
       "      <th>PERCENTILE</th>\n",
       "    </tr>\n",
       "  </thead>\n",
       "  <tbody>\n",
       "    <tr>\n",
       "      <th>0</th>\n",
       "      <td>0</td>\n",
       "      <td>Camila Wood</td>\n",
       "      <td>Stanford University, USA</td>\n",
       "      <td>B.Com</td>\n",
       "      <td>Honours</td>\n",
       "      <td>5th</td>\n",
       "      <td>Finance</td>\n",
       "      <td>50</td>\n",
       "      <td>50</td>\n",
       "      <td>100</td>\n",
       "      <td>1</td>\n",
       "      <td>1.000000</td>\n",
       "    </tr>\n",
       "    <tr>\n",
       "      <th>1</th>\n",
       "      <td>1</td>\n",
       "      <td>Alexander Thompson</td>\n",
       "      <td>Stanford University, USA</td>\n",
       "      <td>B.Com</td>\n",
       "      <td>Financial Services</td>\n",
       "      <td>5th</td>\n",
       "      <td>Finance</td>\n",
       "      <td>50</td>\n",
       "      <td>50</td>\n",
       "      <td>100</td>\n",
       "      <td>2</td>\n",
       "      <td>0.993377</td>\n",
       "    </tr>\n",
       "    <tr>\n",
       "      <th>2</th>\n",
       "      <td>2</td>\n",
       "      <td>Liam Taylor</td>\n",
       "      <td>Harvard University, USA</td>\n",
       "      <td>B.Com</td>\n",
       "      <td>Accounting Analytics</td>\n",
       "      <td>5th</td>\n",
       "      <td>BA</td>\n",
       "      <td>50</td>\n",
       "      <td>50</td>\n",
       "      <td>100</td>\n",
       "      <td>3</td>\n",
       "      <td>0.986755</td>\n",
       "    </tr>\n",
       "    <tr>\n",
       "      <th>3</th>\n",
       "      <td>3</td>\n",
       "      <td>Evelyn Jenkins</td>\n",
       "      <td>Stanford University, USA</td>\n",
       "      <td>B.Com</td>\n",
       "      <td>Honours</td>\n",
       "      <td>5th</td>\n",
       "      <td>Finance</td>\n",
       "      <td>49</td>\n",
       "      <td>50</td>\n",
       "      <td>99</td>\n",
       "      <td>4</td>\n",
       "      <td>0.980132</td>\n",
       "    </tr>\n",
       "    <tr>\n",
       "      <th>4</th>\n",
       "      <td>4</td>\n",
       "      <td>Michael Jackson</td>\n",
       "      <td>Harvard University, USA</td>\n",
       "      <td>MBA</td>\n",
       "      <td>International Business</td>\n",
       "      <td>3rd</td>\n",
       "      <td>IB</td>\n",
       "      <td>50</td>\n",
       "      <td>49</td>\n",
       "      <td>99</td>\n",
       "      <td>5</td>\n",
       "      <td>0.973510</td>\n",
       "    </tr>\n",
       "  </tbody>\n",
       "</table>\n",
       "</div>"
      ],
      "text/plain": [
       "   Unnamed: 0 NAME OF THE STUDENT                UNIVERSITY PROGRAM NAME  \\\n",
       "0           0         Camila Wood  Stanford University, USA        B.Com   \n",
       "1           1  Alexander Thompson  Stanford University, USA        B.Com   \n",
       "2           2         Liam Taylor   Harvard University, USA        B.Com   \n",
       "3           3      Evelyn Jenkins  Stanford University, USA        B.Com   \n",
       "4           4     Michael Jackson   Harvard University, USA          MBA   \n",
       "\n",
       "           Specialisation SEMESTER   Domain  \\\n",
       "0                 Honours      5th  Finance   \n",
       "1      Financial Services      5th  Finance   \n",
       "2    Accounting Analytics      5th       BA   \n",
       "3                 Honours      5th  Finance   \n",
       "4  International Business      3rd       IB   \n",
       "\n",
       "   GENERAL MANAGEMENT SCORE (OUT of 50)  Domain Specific SCORE (OUT 50)  \\\n",
       "0                                    50                              50   \n",
       "1                                    50                              50   \n",
       "2                                    50                              50   \n",
       "3                                    49                              50   \n",
       "4                                    50                              49   \n",
       "\n",
       "   TOTAL SCORE (OUT of 100)  RANK  PERCENTILE  \n",
       "0                       100     1    1.000000  \n",
       "1                       100     2    0.993377  \n",
       "2                       100     3    0.986755  \n",
       "3                        99     4    0.980132  \n",
       "4                        99     5    0.973510  "
      ]
     },
     "execution_count": 49,
     "metadata": {},
     "output_type": "execute_result"
    }
   ],
   "source": [
    "df.head()"
   ]
  },
  {
   "cell_type": "markdown",
   "metadata": {},
   "source": [
    "#### Melihat baris bagian bawah dataframe"
   ]
  },
  {
   "cell_type": "code",
   "execution_count": 50,
   "metadata": {},
   "outputs": [
    {
     "data": {
      "text/html": [
       "<div>\n",
       "<style scoped>\n",
       "    .dataframe tbody tr th:only-of-type {\n",
       "        vertical-align: middle;\n",
       "    }\n",
       "\n",
       "    .dataframe tbody tr th {\n",
       "        vertical-align: top;\n",
       "    }\n",
       "\n",
       "    .dataframe thead th {\n",
       "        text-align: right;\n",
       "    }\n",
       "</style>\n",
       "<table border=\"1\" class=\"dataframe\">\n",
       "  <thead>\n",
       "    <tr style=\"text-align: right;\">\n",
       "      <th></th>\n",
       "      <th>Unnamed: 0</th>\n",
       "      <th>NAME OF THE STUDENT</th>\n",
       "      <th>UNIVERSITY</th>\n",
       "      <th>PROGRAM NAME</th>\n",
       "      <th>Specialisation</th>\n",
       "      <th>SEMESTER</th>\n",
       "      <th>Domain</th>\n",
       "      <th>GENERAL MANAGEMENT SCORE (OUT of 50)</th>\n",
       "      <th>Domain Specific SCORE (OUT 50)</th>\n",
       "      <th>TOTAL SCORE (OUT of 100)</th>\n",
       "      <th>RANK</th>\n",
       "      <th>PERCENTILE</th>\n",
       "    </tr>\n",
       "  </thead>\n",
       "  <tbody>\n",
       "    <tr>\n",
       "      <th>146</th>\n",
       "      <td>146</td>\n",
       "      <td>Avery Lewis</td>\n",
       "      <td>Stanford University, USA</td>\n",
       "      <td>BBA</td>\n",
       "      <td>Financial Services</td>\n",
       "      <td>5th</td>\n",
       "      <td>Finance</td>\n",
       "      <td>16</td>\n",
       "      <td>12</td>\n",
       "      <td>28</td>\n",
       "      <td>147</td>\n",
       "      <td>0.033113</td>\n",
       "    </tr>\n",
       "    <tr>\n",
       "      <th>147</th>\n",
       "      <td>147</td>\n",
       "      <td>Ethan Martin</td>\n",
       "      <td>Stanford University, USA</td>\n",
       "      <td>BBA</td>\n",
       "      <td>International Business</td>\n",
       "      <td>5th</td>\n",
       "      <td>Generic</td>\n",
       "      <td>11</td>\n",
       "      <td>13</td>\n",
       "      <td>24</td>\n",
       "      <td>148</td>\n",
       "      <td>0.026490</td>\n",
       "    </tr>\n",
       "    <tr>\n",
       "      <th>148</th>\n",
       "      <td>148</td>\n",
       "      <td>Nicholas Rodriguez</td>\n",
       "      <td>Harvard University, USA</td>\n",
       "      <td>MBA</td>\n",
       "      <td>International Business</td>\n",
       "      <td>3rd</td>\n",
       "      <td>IB</td>\n",
       "      <td>16</td>\n",
       "      <td>8</td>\n",
       "      <td>24</td>\n",
       "      <td>149</td>\n",
       "      <td>0.019868</td>\n",
       "    </tr>\n",
       "    <tr>\n",
       "      <th>149</th>\n",
       "      <td>149</td>\n",
       "      <td>Samuel Perez</td>\n",
       "      <td>Stanford University, USA</td>\n",
       "      <td>BBA</td>\n",
       "      <td>International Business</td>\n",
       "      <td>5th</td>\n",
       "      <td>IB</td>\n",
       "      <td>12</td>\n",
       "      <td>8</td>\n",
       "      <td>20</td>\n",
       "      <td>150</td>\n",
       "      <td>0.013245</td>\n",
       "    </tr>\n",
       "    <tr>\n",
       "      <th>150</th>\n",
       "      <td>150</td>\n",
       "      <td>Emily Lee</td>\n",
       "      <td>Massachusetts Institute of Technology (MIT), USA</td>\n",
       "      <td>BBA</td>\n",
       "      <td>Digital Marketing</td>\n",
       "      <td>5th</td>\n",
       "      <td>DM</td>\n",
       "      <td>4</td>\n",
       "      <td>1</td>\n",
       "      <td>5</td>\n",
       "      <td>151</td>\n",
       "      <td>0.006623</td>\n",
       "    </tr>\n",
       "  </tbody>\n",
       "</table>\n",
       "</div>"
      ],
      "text/plain": [
       "     Unnamed: 0 NAME OF THE STUDENT  \\\n",
       "146         146         Avery Lewis   \n",
       "147         147        Ethan Martin   \n",
       "148         148  Nicholas Rodriguez   \n",
       "149         149        Samuel Perez   \n",
       "150         150           Emily Lee   \n",
       "\n",
       "                                           UNIVERSITY PROGRAM NAME  \\\n",
       "146                          Stanford University, USA          BBA   \n",
       "147                          Stanford University, USA          BBA   \n",
       "148                           Harvard University, USA          MBA   \n",
       "149                          Stanford University, USA          BBA   \n",
       "150  Massachusetts Institute of Technology (MIT), USA          BBA   \n",
       "\n",
       "             Specialisation SEMESTER   Domain  \\\n",
       "146      Financial Services      5th  Finance   \n",
       "147  International Business      5th  Generic   \n",
       "148  International Business      3rd       IB   \n",
       "149  International Business      5th       IB   \n",
       "150       Digital Marketing      5th       DM   \n",
       "\n",
       "     GENERAL MANAGEMENT SCORE (OUT of 50)  Domain Specific SCORE (OUT 50)  \\\n",
       "146                                    16                              12   \n",
       "147                                    11                              13   \n",
       "148                                    16                               8   \n",
       "149                                    12                               8   \n",
       "150                                     4                               1   \n",
       "\n",
       "     TOTAL SCORE (OUT of 100)  RANK  PERCENTILE  \n",
       "146                        28   147    0.033113  \n",
       "147                        24   148    0.026490  \n",
       "148                        24   149    0.019868  \n",
       "149                        20   150    0.013245  \n",
       "150                         5   151    0.006623  "
      ]
     },
     "execution_count": 50,
     "metadata": {},
     "output_type": "execute_result"
    }
   ],
   "source": [
    "df.tail()"
   ]
  },
  {
   "cell_type": "markdown",
   "metadata": {},
   "source": [
    "#### Mengambil sampel baris dataframe secara random\n"
   ]
  },
  {
   "cell_type": "code",
   "execution_count": 51,
   "metadata": {},
   "outputs": [
    {
     "data": {
      "text/html": [
       "<div>\n",
       "<style scoped>\n",
       "    .dataframe tbody tr th:only-of-type {\n",
       "        vertical-align: middle;\n",
       "    }\n",
       "\n",
       "    .dataframe tbody tr th {\n",
       "        vertical-align: top;\n",
       "    }\n",
       "\n",
       "    .dataframe thead th {\n",
       "        text-align: right;\n",
       "    }\n",
       "</style>\n",
       "<table border=\"1\" class=\"dataframe\">\n",
       "  <thead>\n",
       "    <tr style=\"text-align: right;\">\n",
       "      <th></th>\n",
       "      <th>Unnamed: 0</th>\n",
       "      <th>NAME OF THE STUDENT</th>\n",
       "      <th>UNIVERSITY</th>\n",
       "      <th>PROGRAM NAME</th>\n",
       "      <th>Specialisation</th>\n",
       "      <th>SEMESTER</th>\n",
       "      <th>Domain</th>\n",
       "      <th>GENERAL MANAGEMENT SCORE (OUT of 50)</th>\n",
       "      <th>Domain Specific SCORE (OUT 50)</th>\n",
       "      <th>TOTAL SCORE (OUT of 100)</th>\n",
       "      <th>RANK</th>\n",
       "      <th>PERCENTILE</th>\n",
       "    </tr>\n",
       "  </thead>\n",
       "  <tbody>\n",
       "    <tr>\n",
       "      <th>30</th>\n",
       "      <td>30</td>\n",
       "      <td>Layla Garcia</td>\n",
       "      <td>Harvard University, USA</td>\n",
       "      <td>B.Com</td>\n",
       "      <td>Information Technology with Accounting Analytics</td>\n",
       "      <td>5th</td>\n",
       "      <td>BA</td>\n",
       "      <td>48</td>\n",
       "      <td>42</td>\n",
       "      <td>90</td>\n",
       "      <td>31</td>\n",
       "      <td>0.801325</td>\n",
       "    </tr>\n",
       "    <tr>\n",
       "      <th>72</th>\n",
       "      <td>72</td>\n",
       "      <td>Camila Hayes</td>\n",
       "      <td>Harvard University, USA</td>\n",
       "      <td>MBA</td>\n",
       "      <td>Entrepreneurship &amp; Innovation</td>\n",
       "      <td>3rd</td>\n",
       "      <td>E&amp;I</td>\n",
       "      <td>38</td>\n",
       "      <td>37</td>\n",
       "      <td>75</td>\n",
       "      <td>73</td>\n",
       "      <td>0.523179</td>\n",
       "    </tr>\n",
       "    <tr>\n",
       "      <th>18</th>\n",
       "      <td>18</td>\n",
       "      <td>Sophia King</td>\n",
       "      <td>Harvard University, USA</td>\n",
       "      <td>B.Com</td>\n",
       "      <td>Information Technology with Accounting Analytics</td>\n",
       "      <td>5th</td>\n",
       "      <td>BA</td>\n",
       "      <td>48</td>\n",
       "      <td>46</td>\n",
       "      <td>94</td>\n",
       "      <td>19</td>\n",
       "      <td>0.880795</td>\n",
       "    </tr>\n",
       "    <tr>\n",
       "      <th>66</th>\n",
       "      <td>66</td>\n",
       "      <td>Emma Wilson</td>\n",
       "      <td>Massachusetts Institute of Technology (MIT), USA</td>\n",
       "      <td>BBA</td>\n",
       "      <td>Digital Marketing</td>\n",
       "      <td>5th</td>\n",
       "      <td>DM</td>\n",
       "      <td>37</td>\n",
       "      <td>41</td>\n",
       "      <td>78</td>\n",
       "      <td>67</td>\n",
       "      <td>0.562914</td>\n",
       "    </tr>\n",
       "    <tr>\n",
       "      <th>20</th>\n",
       "      <td>20</td>\n",
       "      <td>Lily Davis</td>\n",
       "      <td>Harvard University, USA</td>\n",
       "      <td>MBA</td>\n",
       "      <td>Innovation Entrepreneurship and Venture Develo...</td>\n",
       "      <td>3rd</td>\n",
       "      <td>E&amp;I</td>\n",
       "      <td>49</td>\n",
       "      <td>43</td>\n",
       "      <td>92</td>\n",
       "      <td>21</td>\n",
       "      <td>0.867550</td>\n",
       "    </tr>\n",
       "  </tbody>\n",
       "</table>\n",
       "</div>"
      ],
      "text/plain": [
       "    Unnamed: 0 NAME OF THE STUDENT  \\\n",
       "30          30        Layla Garcia   \n",
       "72          72        Camila Hayes   \n",
       "18          18         Sophia King   \n",
       "66          66         Emma Wilson   \n",
       "20          20          Lily Davis   \n",
       "\n",
       "                                          UNIVERSITY PROGRAM NAME  \\\n",
       "30                           Harvard University, USA        B.Com   \n",
       "72                           Harvard University, USA          MBA   \n",
       "18                           Harvard University, USA        B.Com   \n",
       "66  Massachusetts Institute of Technology (MIT), USA          BBA   \n",
       "20                           Harvard University, USA          MBA   \n",
       "\n",
       "                                       Specialisation SEMESTER Domain  \\\n",
       "30   Information Technology with Accounting Analytics      5th     BA   \n",
       "72                      Entrepreneurship & Innovation      3rd    E&I   \n",
       "18   Information Technology with Accounting Analytics      5th     BA   \n",
       "66                                  Digital Marketing      5th     DM   \n",
       "20  Innovation Entrepreneurship and Venture Develo...      3rd    E&I   \n",
       "\n",
       "    GENERAL MANAGEMENT SCORE (OUT of 50)  Domain Specific SCORE (OUT 50)  \\\n",
       "30                                    48                              42   \n",
       "72                                    38                              37   \n",
       "18                                    48                              46   \n",
       "66                                    37                              41   \n",
       "20                                    49                              43   \n",
       "\n",
       "    TOTAL SCORE (OUT of 100)  RANK  PERCENTILE  \n",
       "30                        90    31    0.801325  \n",
       "72                        75    73    0.523179  \n",
       "18                        94    19    0.880795  \n",
       "66                        78    67    0.562914  \n",
       "20                        92    21    0.867550  "
      ]
     },
     "execution_count": 51,
     "metadata": {},
     "output_type": "execute_result"
    }
   ],
   "source": [
    "df.sample(5)"
   ]
  },
  {
   "cell_type": "markdown",
   "metadata": {},
   "source": [
    "#### Menampilkan tipe data dari atribut dalam dataframe\n"
   ]
  },
  {
   "cell_type": "code",
   "execution_count": 52,
   "metadata": {},
   "outputs": [
    {
     "data": {
      "text/plain": [
       "Unnamed: 0                                int64\n",
       "NAME OF THE STUDENT                      object\n",
       "UNIVERSITY                               object\n",
       "PROGRAM NAME                             object\n",
       "Specialisation                           object\n",
       "SEMESTER                                 object\n",
       "Domain                                   object\n",
       "GENERAL MANAGEMENT SCORE (OUT of 50)      int64\n",
       "Domain Specific SCORE (OUT 50)            int64\n",
       "TOTAL SCORE (OUT of 100)                  int64\n",
       "RANK                                      int64\n",
       "PERCENTILE                              float64\n",
       "dtype: object"
      ]
     },
     "execution_count": 52,
     "metadata": {},
     "output_type": "execute_result"
    }
   ],
   "source": [
    "df.dtypes"
   ]
  },
  {
   "cell_type": "markdown",
   "metadata": {},
   "source": [
    "#### Menampilkan statistika dasar dari setiap atribut numerik\n"
   ]
  },
  {
   "cell_type": "code",
   "execution_count": 53,
   "metadata": {},
   "outputs": [
    {
     "data": {
      "text/html": [
       "<div>\n",
       "<style scoped>\n",
       "    .dataframe tbody tr th:only-of-type {\n",
       "        vertical-align: middle;\n",
       "    }\n",
       "\n",
       "    .dataframe tbody tr th {\n",
       "        vertical-align: top;\n",
       "    }\n",
       "\n",
       "    .dataframe thead th {\n",
       "        text-align: right;\n",
       "    }\n",
       "</style>\n",
       "<table border=\"1\" class=\"dataframe\">\n",
       "  <thead>\n",
       "    <tr style=\"text-align: right;\">\n",
       "      <th></th>\n",
       "      <th>Unnamed: 0</th>\n",
       "      <th>GENERAL MANAGEMENT SCORE (OUT of 50)</th>\n",
       "      <th>Domain Specific SCORE (OUT 50)</th>\n",
       "      <th>TOTAL SCORE (OUT of 100)</th>\n",
       "      <th>RANK</th>\n",
       "      <th>PERCENTILE</th>\n",
       "    </tr>\n",
       "  </thead>\n",
       "  <tbody>\n",
       "    <tr>\n",
       "      <th>count</th>\n",
       "      <td>151.000000</td>\n",
       "      <td>151.000000</td>\n",
       "      <td>151.000000</td>\n",
       "      <td>151.000000</td>\n",
       "      <td>151.000000</td>\n",
       "      <td>151.000000</td>\n",
       "    </tr>\n",
       "    <tr>\n",
       "      <th>mean</th>\n",
       "      <td>75.000000</td>\n",
       "      <td>37.993377</td>\n",
       "      <td>33.635762</td>\n",
       "      <td>71.629139</td>\n",
       "      <td>76.000000</td>\n",
       "      <td>0.503311</td>\n",
       "    </tr>\n",
       "    <tr>\n",
       "      <th>std</th>\n",
       "      <td>43.734045</td>\n",
       "      <td>10.734056</td>\n",
       "      <td>11.866751</td>\n",
       "      <td>21.200823</td>\n",
       "      <td>43.734045</td>\n",
       "      <td>0.289629</td>\n",
       "    </tr>\n",
       "    <tr>\n",
       "      <th>min</th>\n",
       "      <td>0.000000</td>\n",
       "      <td>4.000000</td>\n",
       "      <td>1.000000</td>\n",
       "      <td>5.000000</td>\n",
       "      <td>1.000000</td>\n",
       "      <td>0.006623</td>\n",
       "    </tr>\n",
       "    <tr>\n",
       "      <th>25%</th>\n",
       "      <td>37.500000</td>\n",
       "      <td>32.500000</td>\n",
       "      <td>27.000000</td>\n",
       "      <td>62.000000</td>\n",
       "      <td>38.500000</td>\n",
       "      <td>0.254967</td>\n",
       "    </tr>\n",
       "    <tr>\n",
       "      <th>50%</th>\n",
       "      <td>75.000000</td>\n",
       "      <td>40.000000</td>\n",
       "      <td>36.000000</td>\n",
       "      <td>74.000000</td>\n",
       "      <td>76.000000</td>\n",
       "      <td>0.503311</td>\n",
       "    </tr>\n",
       "    <tr>\n",
       "      <th>75%</th>\n",
       "      <td>112.500000</td>\n",
       "      <td>47.000000</td>\n",
       "      <td>43.000000</td>\n",
       "      <td>89.000000</td>\n",
       "      <td>113.500000</td>\n",
       "      <td>0.751656</td>\n",
       "    </tr>\n",
       "    <tr>\n",
       "      <th>max</th>\n",
       "      <td>150.000000</td>\n",
       "      <td>50.000000</td>\n",
       "      <td>50.000000</td>\n",
       "      <td>100.000000</td>\n",
       "      <td>151.000000</td>\n",
       "      <td>1.000000</td>\n",
       "    </tr>\n",
       "  </tbody>\n",
       "</table>\n",
       "</div>"
      ],
      "text/plain": [
       "       Unnamed: 0  GENERAL MANAGEMENT SCORE (OUT of 50)  \\\n",
       "count  151.000000                            151.000000   \n",
       "mean    75.000000                             37.993377   \n",
       "std     43.734045                             10.734056   \n",
       "min      0.000000                              4.000000   \n",
       "25%     37.500000                             32.500000   \n",
       "50%     75.000000                             40.000000   \n",
       "75%    112.500000                             47.000000   \n",
       "max    150.000000                             50.000000   \n",
       "\n",
       "       Domain Specific SCORE (OUT 50)  TOTAL SCORE (OUT of 100)        RANK  \\\n",
       "count                      151.000000                151.000000  151.000000   \n",
       "mean                        33.635762                 71.629139   76.000000   \n",
       "std                         11.866751                 21.200823   43.734045   \n",
       "min                          1.000000                  5.000000    1.000000   \n",
       "25%                         27.000000                 62.000000   38.500000   \n",
       "50%                         36.000000                 74.000000   76.000000   \n",
       "75%                         43.000000                 89.000000  113.500000   \n",
       "max                         50.000000                100.000000  151.000000   \n",
       "\n",
       "       PERCENTILE  \n",
       "count  151.000000  \n",
       "mean     0.503311  \n",
       "std      0.289629  \n",
       "min      0.006623  \n",
       "25%      0.254967  \n",
       "50%      0.503311  \n",
       "75%      0.751656  \n",
       "max      1.000000  "
      ]
     },
     "execution_count": 53,
     "metadata": {},
     "output_type": "execute_result"
    }
   ],
   "source": [
    "df.describe()"
   ]
  },
  {
   "cell_type": "code",
   "execution_count": 54,
   "metadata": {},
   "outputs": [
    {
     "data": {
      "text/plain": [
       "count    151.000000\n",
       "mean      71.629139\n",
       "std       21.200823\n",
       "min        5.000000\n",
       "25%       62.000000\n",
       "50%       74.000000\n",
       "75%       89.000000\n",
       "max      100.000000\n",
       "Name: TOTAL SCORE (OUT of 100), dtype: float64"
      ]
     },
     "execution_count": 54,
     "metadata": {},
     "output_type": "execute_result"
    }
   ],
   "source": [
    "df[\"TOTAL SCORE (OUT of 100)\"].describe()"
   ]
  },
  {
   "cell_type": "code",
   "execution_count": 55,
   "metadata": {},
   "outputs": [
    {
     "data": {
      "text/plain": [
       "5th    80\n",
       "3rd    59\n",
       "9th    12\n",
       "Name: SEMESTER, dtype: int64"
      ]
     },
     "execution_count": 55,
     "metadata": {},
     "output_type": "execute_result"
    }
   ],
   "source": [
    "df[\"SEMESTER\"].value_counts()"
   ]
  },
  {
   "cell_type": "markdown",
   "metadata": {},
   "source": [
    "# Verifikasi kualitas data dan Data Cleaning"
   ]
  },
  {
   "cell_type": "markdown",
   "metadata": {},
   "source": [
    "# Rename nama kolom"
   ]
  },
  {
   "cell_type": "code",
   "execution_count": 56,
   "metadata": {},
   "outputs": [],
   "source": [
    "df = df.rename(columns={'GENERAL MANAGEMENT SCORE (OUT of 50)': 'GENERAL MANAGEMENT SCORE', 'Domain Specific SCORE (OUT 50)': 'Domain Specific SCORE', 'TOTAL SCORE (OUT of 100)': 'TOTAL SCORE'})"
   ]
  },
  {
   "cell_type": "markdown",
   "metadata": {},
   "source": [
    "## Missing Value"
   ]
  },
  {
   "cell_type": "code",
   "execution_count": 57,
   "metadata": {},
   "outputs": [
    {
     "data": {
      "text/plain": [
       "Unnamed: 0                  0\n",
       "NAME OF THE STUDENT         0\n",
       "UNIVERSITY                  0\n",
       "PROGRAM NAME                0\n",
       "Specialisation              0\n",
       "SEMESTER                    0\n",
       "Domain                      0\n",
       "GENERAL MANAGEMENT SCORE    0\n",
       "Domain Specific SCORE       0\n",
       "TOTAL SCORE                 0\n",
       "RANK                        0\n",
       "PERCENTILE                  0\n",
       "dtype: int64"
      ]
     },
     "execution_count": 57,
     "metadata": {},
     "output_type": "execute_result"
    }
   ],
   "source": [
    "df.isnull().sum()"
   ]
  },
  {
   "cell_type": "markdown",
   "metadata": {},
   "source": [
    "## Duplicate Data"
   ]
  },
  {
   "cell_type": "code",
   "execution_count": 58,
   "metadata": {},
   "outputs": [
    {
     "data": {
      "text/plain": [
       "0"
      ]
     },
     "execution_count": 58,
     "metadata": {},
     "output_type": "execute_result"
    }
   ],
   "source": [
    "df.duplicated().sum()"
   ]
  },
  {
   "cell_type": "markdown",
   "metadata": {},
   "source": [
    "## Korelasi"
   ]
  },
  {
   "cell_type": "code",
   "execution_count": 59,
   "metadata": {},
   "outputs": [
    {
     "name": "stderr",
     "output_type": "stream",
     "text": [
      "C:\\Users\\LENOVO GAMING\\AppData\\Local\\Temp\\ipykernel_6128\\2438084875.py:1: FutureWarning: The default value of numeric_only in DataFrame.corr is deprecated. In a future version, it will default to False. Select only valid columns or specify the value of numeric_only to silence this warning.\n",
      "  corr = df.corr()\n"
     ]
    },
    {
     "data": {
      "text/html": [
       "<div>\n",
       "<style scoped>\n",
       "    .dataframe tbody tr th:only-of-type {\n",
       "        vertical-align: middle;\n",
       "    }\n",
       "\n",
       "    .dataframe tbody tr th {\n",
       "        vertical-align: top;\n",
       "    }\n",
       "\n",
       "    .dataframe thead th {\n",
       "        text-align: right;\n",
       "    }\n",
       "</style>\n",
       "<table border=\"1\" class=\"dataframe\">\n",
       "  <thead>\n",
       "    <tr style=\"text-align: right;\">\n",
       "      <th></th>\n",
       "      <th>Unnamed: 0</th>\n",
       "      <th>GENERAL MANAGEMENT SCORE</th>\n",
       "      <th>Domain Specific SCORE</th>\n",
       "      <th>TOTAL SCORE</th>\n",
       "      <th>RANK</th>\n",
       "      <th>PERCENTILE</th>\n",
       "    </tr>\n",
       "  </thead>\n",
       "  <tbody>\n",
       "    <tr>\n",
       "      <th>Unnamed: 0</th>\n",
       "      <td>1.000000</td>\n",
       "      <td>-0.874567</td>\n",
       "      <td>-0.916578</td>\n",
       "      <td>-0.955834</td>\n",
       "      <td>1.000000</td>\n",
       "      <td>-1.000000</td>\n",
       "    </tr>\n",
       "    <tr>\n",
       "      <th>GENERAL MANAGEMENT SCORE</th>\n",
       "      <td>-0.874567</td>\n",
       "      <td>1.000000</td>\n",
       "      <td>0.759294</td>\n",
       "      <td>0.931304</td>\n",
       "      <td>-0.874567</td>\n",
       "      <td>0.874567</td>\n",
       "    </tr>\n",
       "    <tr>\n",
       "      <th>Domain Specific SCORE</th>\n",
       "      <td>-0.916578</td>\n",
       "      <td>0.759294</td>\n",
       "      <td>1.000000</td>\n",
       "      <td>0.944164</td>\n",
       "      <td>-0.916578</td>\n",
       "      <td>0.916578</td>\n",
       "    </tr>\n",
       "    <tr>\n",
       "      <th>TOTAL SCORE</th>\n",
       "      <td>-0.955834</td>\n",
       "      <td>0.931304</td>\n",
       "      <td>0.944164</td>\n",
       "      <td>1.000000</td>\n",
       "      <td>-0.955834</td>\n",
       "      <td>0.955834</td>\n",
       "    </tr>\n",
       "    <tr>\n",
       "      <th>RANK</th>\n",
       "      <td>1.000000</td>\n",
       "      <td>-0.874567</td>\n",
       "      <td>-0.916578</td>\n",
       "      <td>-0.955834</td>\n",
       "      <td>1.000000</td>\n",
       "      <td>-1.000000</td>\n",
       "    </tr>\n",
       "    <tr>\n",
       "      <th>PERCENTILE</th>\n",
       "      <td>-1.000000</td>\n",
       "      <td>0.874567</td>\n",
       "      <td>0.916578</td>\n",
       "      <td>0.955834</td>\n",
       "      <td>-1.000000</td>\n",
       "      <td>1.000000</td>\n",
       "    </tr>\n",
       "  </tbody>\n",
       "</table>\n",
       "</div>"
      ],
      "text/plain": [
       "                          Unnamed: 0  GENERAL MANAGEMENT SCORE  \\\n",
       "Unnamed: 0                  1.000000                 -0.874567   \n",
       "GENERAL MANAGEMENT SCORE   -0.874567                  1.000000   \n",
       "Domain Specific SCORE      -0.916578                  0.759294   \n",
       "TOTAL SCORE                -0.955834                  0.931304   \n",
       "RANK                        1.000000                 -0.874567   \n",
       "PERCENTILE                 -1.000000                  0.874567   \n",
       "\n",
       "                          Domain Specific SCORE  TOTAL SCORE      RANK  \\\n",
       "Unnamed: 0                            -0.916578    -0.955834  1.000000   \n",
       "GENERAL MANAGEMENT SCORE               0.759294     0.931304 -0.874567   \n",
       "Domain Specific SCORE                  1.000000     0.944164 -0.916578   \n",
       "TOTAL SCORE                            0.944164     1.000000 -0.955834   \n",
       "RANK                                  -0.916578    -0.955834  1.000000   \n",
       "PERCENTILE                             0.916578     0.955834 -1.000000   \n",
       "\n",
       "                          PERCENTILE  \n",
       "Unnamed: 0                 -1.000000  \n",
       "GENERAL MANAGEMENT SCORE    0.874567  \n",
       "Domain Specific SCORE       0.916578  \n",
       "TOTAL SCORE                 0.955834  \n",
       "RANK                       -1.000000  \n",
       "PERCENTILE                  1.000000  "
      ]
     },
     "execution_count": 59,
     "metadata": {},
     "output_type": "execute_result"
    }
   ],
   "source": [
    "corr = df.corr()\n",
    "corr"
   ]
  },
  {
   "cell_type": "code",
   "execution_count": 60,
   "metadata": {},
   "outputs": [],
   "source": [
    "import matplotlib.pyplot as plt\n",
    "import seaborn as sns"
   ]
  },
  {
   "cell_type": "code",
   "execution_count": 61,
   "metadata": {},
   "outputs": [
    {
     "data": {
      "text/plain": [
       "<Axes: >"
      ]
     },
     "execution_count": 61,
     "metadata": {},
     "output_type": "execute_result"
    },
    {
     "data": {
      "image/png": "[encoded data removed]",
      "text/plain": [
       "<Figure size 640x480 with 2 Axes>"
      ]
     },
     "metadata": {},
     "output_type": "display_data"
    }
   ],
   "source": [
    "sns.heatmap(corr)"
   ]
  },
  {
   "cell_type": "code",
   "execution_count": 62,
   "metadata": {},
   "outputs": [
    {
     "name": "stderr",
     "output_type": "stream",
     "text": [
      "C:\\Users\\LENOVO GAMING\\AppData\\Local\\Temp\\ipykernel_6128\\560447544.py:3: FutureWarning: The default value of numeric_only in DataFrame.corr is deprecated. In a future version, it will default to False. Select only valid columns or specify the value of numeric_only to silence this warning.\n",
      "  heatmap=sns.heatmap(df.corr(),cmap=cmap, annot=True)\n"
     ]
    },
    {
     "data": {
      "text/plain": [
       "Text(0.5, 1.0, 'Students Test Data Correlation Heatmap')"
      ]
     },
     "execution_count": 62,
     "metadata": {},
     "output_type": "execute_result"
    },
    {
     "data": {
      "image/png": "[encoded data removed]",
      "text/plain": [
       "<Figure size 900x900 with 2 Axes>"
      ]
     },
     "metadata": {},
     "output_type": "display_data"
    }
   ],
   "source": [
    "plt.figure(figsize=(9, 9))\n",
    "cmap = \"cividis\"\n",
    "heatmap=sns.heatmap(df.corr(),cmap=cmap, annot=True)\n",
    "heatmap.set_title('Students Test Data Correlation Heatmap', fontdict={'fontsize':12}, pad=12)"
   ]
  },
  {
   "cell_type": "markdown",
   "metadata": {},
   "source": [
    "## Outlier\n"
   ]
  },
  {
   "cell_type": "markdown",
   "metadata": {},
   "source": [
    "#### Menampilkan boxplot pada setiap atribut untuk mengidentifikasi data outlier\n"
   ]
  },
  {
   "cell_type": "code",
   "execution_count": 63,
   "metadata": {},
   "outputs": [
    {
     "data": {
      "image/png": "[encoded data removed]",
      "text/plain": [
       "<Figure size 1700x1000 with 1 Axes>"
      ]
     },
     "metadata": {},
     "output_type": "display_data"
    }
   ],
   "source": [
    "import matplotlib.pyplot as plt\n",
    "plt.figure(figsize=(17, 10))  # Ukuran gambar\n",
    "sns.boxplot(data=df)\n",
    "plt.title('Box Plot untuk Setiap Atribut')\n",
    "plt.xlabel('Atribut')\n",
    "plt.ylabel('Nilai')\n",
    "plt.show()"
   ]
  },
  {
   "cell_type": "code",
   "execution_count": 64,
   "metadata": {},
   "outputs": [
    {
     "name": "stderr",
     "output_type": "stream",
     "text": [
      "C:\\Users\\LENOVO GAMING\\AppData\\Local\\Temp\\ipykernel_6128\\3352705280.py:1: FutureWarning: The default value of numeric_only in DataFrame.quantile is deprecated. In a future version, it will default to False. Select only valid columns or specify the value of numeric_only to silence this warning.\n",
      "  q11 = df.quantile(0.25)\n",
      "C:\\Users\\LENOVO GAMING\\AppData\\Local\\Temp\\ipykernel_6128\\3352705280.py:2: FutureWarning: The default value of numeric_only in DataFrame.quantile is deprecated. In a future version, it will default to False. Select only valid columns or specify the value of numeric_only to silence this warning.\n",
      "  q31 = df.quantile(0.75)\n",
      "C:\\Users\\LENOVO GAMING\\AppData\\Local\\Temp\\ipykernel_6128\\3352705280.py:7: FutureWarning: Automatic reindexing on DataFrame vs Series comparisons is deprecated and will raise ValueError in a future version. Do `left, right = left.align(right, axis=1, copy=False)` before e.g. `left == right`\n",
      "  outliers = ((df < ba1) | (df > bw1)).any()\n",
      "C:\\Users\\LENOVO GAMING\\AppData\\Local\\Temp\\ipykernel_6128\\3352705280.py:9: FutureWarning: Automatic reindexing on DataFrame vs Series comparisons is deprecated and will raise ValueError in a future version. Do `left, right = left.align(right, axis=1, copy=False)` before e.g. `left == right`\n",
      "  df = df[~((df < bw1) | (df > ba1)).any(axis=1)]\n"
     ]
    }
   ],
   "source": [
    "q11 = df.quantile(0.25)\n",
    "q31 = df.quantile(0.75)\n",
    "s1 = q31 - q11\n",
    "bw1 = q11 - 1.5 * s1\n",
    "ba1 = q31 + 1.5 * s1\n",
    "\n",
    "outliers = ((df < ba1) | (df > bw1)).any()\n",
    "# hapus semua outlier\n",
    "df = df[~((df < bw1) | (df > ba1)).any(axis=1)]"
   ]
  },
  {
   "cell_type": "code",
   "execution_count": 65,
   "metadata": {},
   "outputs": [
    {
     "data": {
      "image/png": "[encoded data removed]",
      "text/plain": [
       "<Figure size 1400x1000 with 1 Axes>"
      ]
     },
     "metadata": {},
     "output_type": "display_data"
    }
   ],
   "source": [
    "import matplotlib.pyplot as plt\n",
    "plt.figure(figsize=(14, 10))  # Ukuran gambar\n",
    "sns.boxplot(data=df)\n",
    "plt.title('Box Plot untuk Setiap Atribut')\n",
    "plt.xlabel('Atribut')\n",
    "plt.ylabel('Nilai')\n",
    "plt.show()"
   ]
  },
  {
   "cell_type": "code",
   "execution_count": 66,
   "metadata": {},
   "outputs": [
    {
     "name": "stdout",
     "output_type": "stream",
     "text": [
      "<class 'pandas.core.frame.DataFrame'>\n",
      "Int64Index: 149 entries, 0 to 148\n",
      "Data columns (total 12 columns):\n",
      " #   Column                    Non-Null Count  Dtype  \n",
      "---  ------                    --------------  -----  \n",
      " 0   Unnamed: 0                149 non-null    int64  \n",
      " 1   NAME OF THE STUDENT       149 non-null    object \n",
      " 2   UNIVERSITY                149 non-null    object \n",
      " 3   PROGRAM NAME              149 non-null    object \n",
      " 4   Specialisation            149 non-null    object \n",
      " 5   SEMESTER                  149 non-null    object \n",
      " 6   Domain                    149 non-null    object \n",
      " 7   GENERAL MANAGEMENT SCORE  149 non-null    int64  \n",
      " 8   Domain Specific SCORE     149 non-null    int64  \n",
      " 9   TOTAL SCORE               149 non-null    int64  \n",
      " 10  RANK                      149 non-null    int64  \n",
      " 11  PERCENTILE                149 non-null    float64\n",
      "dtypes: float64(1), int64(5), object(6)\n",
      "memory usage: 15.1+ KB\n"
     ]
    }
   ],
   "source": [
    "df.info()"
   ]
  }
 ],
 "metadata": {
  "kernelspec": {
   "display_name": "Python 3",
   "language": "python",
   "name": "python3"
  },
  "language_info": {
   "codemirror_mode": {
    "name": "ipython",
    "version": 3
   },
   "file_extension": ".py",
   "mimetype": "text/x-python",
   "name": "python",
   "nbconvert_exporter": "python",
   "pygments_lexer": "ipython3",
   "version": "3.9.7"
  },
  "orig_nbformat": 4
 },
 "nbformat": 4,
 "nbformat_minor": 2
}
